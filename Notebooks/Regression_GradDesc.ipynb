{
 "cells": [
  {
   "cell_type": "markdown",
   "metadata": {},
   "source": [
    "## Optimization using gradient descent"
   ]
  },
  {
   "cell_type": "markdown",
   "metadata": {},
   "source": [
    "This notebook demonstrates multivariate linear fits using the gradient descent method.\n"
   ]
  },
  {
   "cell_type": "code",
   "execution_count": 1,
   "metadata": {},
   "outputs": [],
   "source": [
    "%matplotlib widget\n",
    "\n",
    "import numpy as np\n",
    "import pandas as pd\n",
    "import matplotlib.pyplot as plt\n",
    "import matplotlib.colors as colors\n",
    "import matplotlib.cm as cm\n",
    "\n",
    "import sys\n",
    "sys.path.append('/Users/ondrea/MLandstats/OStats/')\n",
    "from ostats import ML\n",
    "from ostats import dplot as dp\n",
    "#from mpltools import color as colors"
   ]
  },
  {
   "cell_type": "code",
   "execution_count": 2,
   "metadata": {},
   "outputs": [
    {
     "name": "stdout",
     "output_type": "stream",
     "text": [
      "--2021-06-14 11:47:21--  https://raw.githubusercontent.com/ageron/handson-ml2/master/datasets/housing/housing.csv\n",
      "Resolving raw.githubusercontent.com (raw.githubusercontent.com)... 185.199.110.133, 185.199.111.133, 185.199.109.133, ...\n",
      "Connecting to raw.githubusercontent.com (raw.githubusercontent.com)|185.199.110.133|:443... connected.\n",
      "HTTP request sent, awaiting response... 200 OK\n",
      "Length: 1423529 (1.4M) [text/plain]\n",
      "Saving to: ‘./data/housing.csv’\n",
      "\n",
      "housing.csv         100%[===================>]   1.36M  --.-KB/s    in 0.08s   \n",
      "\n",
      "2021-06-14 11:47:22 (16.4 MB/s) - ‘./data/housing.csv’ saved [1423529/1423529]\n",
      "\n",
      "--2021-06-14 11:47:22--  https://datahub.io/core/global-temp/r/annual.csv\n",
      "Resolving datahub.io (datahub.io)... 104.21.40.221, 172.67.157.38\n",
      "Connecting to datahub.io (datahub.io)|104.21.40.221|:443... connected.\n",
      "HTTP request sent, awaiting response... 302 Found\n",
      "Location: https://pkgstore.datahub.io/core/global-temp/annual_csv/data/a26b154688b061cdd04f1df36e4408be/annual_csv.csv [following]\n",
      "--2021-06-14 11:47:24--  https://pkgstore.datahub.io/core/global-temp/annual_csv/data/a26b154688b061cdd04f1df36e4408be/annual_csv.csv\n",
      "Resolving pkgstore.datahub.io (pkgstore.datahub.io)... 172.67.157.38, 104.21.40.221\n",
      "Connecting to pkgstore.datahub.io (pkgstore.datahub.io)|172.67.157.38|:443... connected.\n",
      "HTTP request sent, awaiting response... 200 OK\n",
      "Length: 5230 (5.1K) [text/plain]\n",
      "Saving to: ‘./data/annual.csv.8’\n",
      "\n",
      "annual.csv.8        100%[===================>]   5.11K  --.-KB/s    in 0s      \n",
      "\n",
      "2021-06-14 11:47:24 (10.3 MB/s) - ‘./data/annual.csv.8’ saved [5230/5230]\n",
      "\n"
     ]
    }
   ],
   "source": [
    "data_range = np.random.RandomState(1) #make up some fake data for testing\n",
    "fakex = 10 * data_range.rand(50)\n",
    "fakey = 3 * fakex - 5 + data_range.randn(50)\n",
    "\n",
    "\n",
    "!rm -rf ./data/housing*\n",
    "!wget -P ./data https://raw.githubusercontent.com/ageron/handson-ml2/master/datasets/housing/housing.csv\n",
    "    \n",
    "#get some data for testing\n",
    "!wget -P ./data https://datahub.io/core/global-temp/r/annual.csv"
   ]
  },
  {
   "cell_type": "code",
   "execution_count": 3,
   "metadata": {},
   "outputs": [],
   "source": [
    "year, tempa = np.loadtxt('./data/annual.csv', skiprows=1, delimiter=\",\", usecols=(1,2), unpack=True)\n",
    "year = np.array([int(y) for y in year])/np.max(year); tempa=np.array(tempa)+1"
   ]
  },
  {
   "cell_type": "code",
   "execution_count": 4,
   "metadata": {},
   "outputs": [],
   "source": [
    "year = 1 + (year - np.mean(year))/(np.max(year)-np.min(year))"
   ]
  },
  {
   "cell_type": "code",
   "execution_count": 5,
   "metadata": {},
   "outputs": [],
   "source": [
    "#year"
   ]
  },
  {
   "cell_type": "code",
   "execution_count": 6,
   "metadata": {},
   "outputs": [],
   "source": [
    "housing_data = pd.read_csv('./data/housing.csv')"
   ]
  },
  {
   "cell_type": "code",
   "execution_count": 7,
   "metadata": {},
   "outputs": [
    {
     "data": {
      "text/html": [
       "<div>\n",
       "<style scoped>\n",
       "    .dataframe tbody tr th:only-of-type {\n",
       "        vertical-align: middle;\n",
       "    }\n",
       "\n",
       "    .dataframe tbody tr th {\n",
       "        vertical-align: top;\n",
       "    }\n",
       "\n",
       "    .dataframe thead th {\n",
       "        text-align: right;\n",
       "    }\n",
       "</style>\n",
       "<table border=\"1\" class=\"dataframe\">\n",
       "  <thead>\n",
       "    <tr style=\"text-align: right;\">\n",
       "      <th></th>\n",
       "      <th>longitude</th>\n",
       "      <th>latitude</th>\n",
       "      <th>housing_median_age</th>\n",
       "      <th>total_rooms</th>\n",
       "      <th>total_bedrooms</th>\n",
       "      <th>population</th>\n",
       "      <th>households</th>\n",
       "      <th>median_income</th>\n",
       "      <th>median_house_value</th>\n",
       "      <th>ocean_proximity</th>\n",
       "    </tr>\n",
       "  </thead>\n",
       "  <tbody>\n",
       "    <tr>\n",
       "      <th>0</th>\n",
       "      <td>-122.23</td>\n",
       "      <td>37.88</td>\n",
       "      <td>41.0</td>\n",
       "      <td>880.0</td>\n",
       "      <td>129.0</td>\n",
       "      <td>322.0</td>\n",
       "      <td>126.0</td>\n",
       "      <td>8.3252</td>\n",
       "      <td>452600.0</td>\n",
       "      <td>NEAR BAY</td>\n",
       "    </tr>\n",
       "    <tr>\n",
       "      <th>1</th>\n",
       "      <td>-122.22</td>\n",
       "      <td>37.86</td>\n",
       "      <td>21.0</td>\n",
       "      <td>7099.0</td>\n",
       "      <td>1106.0</td>\n",
       "      <td>2401.0</td>\n",
       "      <td>1138.0</td>\n",
       "      <td>8.3014</td>\n",
       "      <td>358500.0</td>\n",
       "      <td>NEAR BAY</td>\n",
       "    </tr>\n",
       "    <tr>\n",
       "      <th>2</th>\n",
       "      <td>-122.24</td>\n",
       "      <td>37.85</td>\n",
       "      <td>52.0</td>\n",
       "      <td>1467.0</td>\n",
       "      <td>190.0</td>\n",
       "      <td>496.0</td>\n",
       "      <td>177.0</td>\n",
       "      <td>7.2574</td>\n",
       "      <td>352100.0</td>\n",
       "      <td>NEAR BAY</td>\n",
       "    </tr>\n",
       "    <tr>\n",
       "      <th>3</th>\n",
       "      <td>-122.25</td>\n",
       "      <td>37.85</td>\n",
       "      <td>52.0</td>\n",
       "      <td>1274.0</td>\n",
       "      <td>235.0</td>\n",
       "      <td>558.0</td>\n",
       "      <td>219.0</td>\n",
       "      <td>5.6431</td>\n",
       "      <td>341300.0</td>\n",
       "      <td>NEAR BAY</td>\n",
       "    </tr>\n",
       "    <tr>\n",
       "      <th>4</th>\n",
       "      <td>-122.25</td>\n",
       "      <td>37.85</td>\n",
       "      <td>52.0</td>\n",
       "      <td>1627.0</td>\n",
       "      <td>280.0</td>\n",
       "      <td>565.0</td>\n",
       "      <td>259.0</td>\n",
       "      <td>3.8462</td>\n",
       "      <td>342200.0</td>\n",
       "      <td>NEAR BAY</td>\n",
       "    </tr>\n",
       "    <tr>\n",
       "      <th>...</th>\n",
       "      <td>...</td>\n",
       "      <td>...</td>\n",
       "      <td>...</td>\n",
       "      <td>...</td>\n",
       "      <td>...</td>\n",
       "      <td>...</td>\n",
       "      <td>...</td>\n",
       "      <td>...</td>\n",
       "      <td>...</td>\n",
       "      <td>...</td>\n",
       "    </tr>\n",
       "    <tr>\n",
       "      <th>20635</th>\n",
       "      <td>-121.09</td>\n",
       "      <td>39.48</td>\n",
       "      <td>25.0</td>\n",
       "      <td>1665.0</td>\n",
       "      <td>374.0</td>\n",
       "      <td>845.0</td>\n",
       "      <td>330.0</td>\n",
       "      <td>1.5603</td>\n",
       "      <td>78100.0</td>\n",
       "      <td>INLAND</td>\n",
       "    </tr>\n",
       "    <tr>\n",
       "      <th>20636</th>\n",
       "      <td>-121.21</td>\n",
       "      <td>39.49</td>\n",
       "      <td>18.0</td>\n",
       "      <td>697.0</td>\n",
       "      <td>150.0</td>\n",
       "      <td>356.0</td>\n",
       "      <td>114.0</td>\n",
       "      <td>2.5568</td>\n",
       "      <td>77100.0</td>\n",
       "      <td>INLAND</td>\n",
       "    </tr>\n",
       "    <tr>\n",
       "      <th>20637</th>\n",
       "      <td>-121.22</td>\n",
       "      <td>39.43</td>\n",
       "      <td>17.0</td>\n",
       "      <td>2254.0</td>\n",
       "      <td>485.0</td>\n",
       "      <td>1007.0</td>\n",
       "      <td>433.0</td>\n",
       "      <td>1.7000</td>\n",
       "      <td>92300.0</td>\n",
       "      <td>INLAND</td>\n",
       "    </tr>\n",
       "    <tr>\n",
       "      <th>20638</th>\n",
       "      <td>-121.32</td>\n",
       "      <td>39.43</td>\n",
       "      <td>18.0</td>\n",
       "      <td>1860.0</td>\n",
       "      <td>409.0</td>\n",
       "      <td>741.0</td>\n",
       "      <td>349.0</td>\n",
       "      <td>1.8672</td>\n",
       "      <td>84700.0</td>\n",
       "      <td>INLAND</td>\n",
       "    </tr>\n",
       "    <tr>\n",
       "      <th>20639</th>\n",
       "      <td>-121.24</td>\n",
       "      <td>39.37</td>\n",
       "      <td>16.0</td>\n",
       "      <td>2785.0</td>\n",
       "      <td>616.0</td>\n",
       "      <td>1387.0</td>\n",
       "      <td>530.0</td>\n",
       "      <td>2.3886</td>\n",
       "      <td>89400.0</td>\n",
       "      <td>INLAND</td>\n",
       "    </tr>\n",
       "  </tbody>\n",
       "</table>\n",
       "<p>20640 rows × 10 columns</p>\n",
       "</div>"
      ],
      "text/plain": [
       "       longitude  latitude  housing_median_age  total_rooms  total_bedrooms  \\\n",
       "0        -122.23     37.88                41.0        880.0           129.0   \n",
       "1        -122.22     37.86                21.0       7099.0          1106.0   \n",
       "2        -122.24     37.85                52.0       1467.0           190.0   \n",
       "3        -122.25     37.85                52.0       1274.0           235.0   \n",
       "4        -122.25     37.85                52.0       1627.0           280.0   \n",
       "...          ...       ...                 ...          ...             ...   \n",
       "20635    -121.09     39.48                25.0       1665.0           374.0   \n",
       "20636    -121.21     39.49                18.0        697.0           150.0   \n",
       "20637    -121.22     39.43                17.0       2254.0           485.0   \n",
       "20638    -121.32     39.43                18.0       1860.0           409.0   \n",
       "20639    -121.24     39.37                16.0       2785.0           616.0   \n",
       "\n",
       "       population  households  median_income  median_house_value  \\\n",
       "0           322.0       126.0         8.3252            452600.0   \n",
       "1          2401.0      1138.0         8.3014            358500.0   \n",
       "2           496.0       177.0         7.2574            352100.0   \n",
       "3           558.0       219.0         5.6431            341300.0   \n",
       "4           565.0       259.0         3.8462            342200.0   \n",
       "...           ...         ...            ...                 ...   \n",
       "20635       845.0       330.0         1.5603             78100.0   \n",
       "20636       356.0       114.0         2.5568             77100.0   \n",
       "20637      1007.0       433.0         1.7000             92300.0   \n",
       "20638       741.0       349.0         1.8672             84700.0   \n",
       "20639      1387.0       530.0         2.3886             89400.0   \n",
       "\n",
       "      ocean_proximity  \n",
       "0            NEAR BAY  \n",
       "1            NEAR BAY  \n",
       "2            NEAR BAY  \n",
       "3            NEAR BAY  \n",
       "4            NEAR BAY  \n",
       "...               ...  \n",
       "20635          INLAND  \n",
       "20636          INLAND  \n",
       "20637          INLAND  \n",
       "20638          INLAND  \n",
       "20639          INLAND  \n",
       "\n",
       "[20640 rows x 10 columns]"
      ]
     },
     "execution_count": 7,
     "metadata": {},
     "output_type": "execute_result"
    }
   ],
   "source": [
    "housing_data"
   ]
  },
  {
   "cell_type": "code",
   "execution_count": 8,
   "metadata": {},
   "outputs": [],
   "source": [
    "housing_data = housing_data[housing_data.median_house_value != 500001] #a bunch of values are set to this\n",
    "housing_data = housing_data.sample(n=250) #smaller sample\n",
    "housing_data.median_house_value = housing_data.median_house_value/500000\n",
    "housing_data.median_income= housing_data.median_income/10"
   ]
  },
  {
   "cell_type": "code",
   "execution_count": 9,
   "metadata": {},
   "outputs": [
    {
     "data": {
      "text/plain": [
       "0.8540699999999999"
      ]
     },
     "execution_count": 9,
     "metadata": {},
     "output_type": "execute_result"
    }
   ],
   "source": [
    "housing_data.median_income.max()"
   ]
  },
  {
   "cell_type": "code",
   "execution_count": 10,
   "metadata": {},
   "outputs": [
    {
     "data": {
      "text/html": [
       "<div>\n",
       "<style scoped>\n",
       "    .dataframe tbody tr th:only-of-type {\n",
       "        vertical-align: middle;\n",
       "    }\n",
       "\n",
       "    .dataframe tbody tr th {\n",
       "        vertical-align: top;\n",
       "    }\n",
       "\n",
       "    .dataframe thead th {\n",
       "        text-align: right;\n",
       "    }\n",
       "</style>\n",
       "<table border=\"1\" class=\"dataframe\">\n",
       "  <thead>\n",
       "    <tr style=\"text-align: right;\">\n",
       "      <th></th>\n",
       "      <th>longitude</th>\n",
       "      <th>latitude</th>\n",
       "      <th>housing_median_age</th>\n",
       "      <th>total_rooms</th>\n",
       "      <th>total_bedrooms</th>\n",
       "      <th>population</th>\n",
       "      <th>households</th>\n",
       "      <th>median_income</th>\n",
       "      <th>median_house_value</th>\n",
       "      <th>ocean_proximity</th>\n",
       "    </tr>\n",
       "  </thead>\n",
       "  <tbody>\n",
       "    <tr>\n",
       "      <th>3289</th>\n",
       "      <td>-122.69</td>\n",
       "      <td>39.02</td>\n",
       "      <td>27.0</td>\n",
       "      <td>2199.0</td>\n",
       "      <td>527.0</td>\n",
       "      <td>744.0</td>\n",
       "      <td>316.0</td>\n",
       "      <td>0.21094</td>\n",
       "      <td>0.1448</td>\n",
       "      <td>INLAND</td>\n",
       "    </tr>\n",
       "    <tr>\n",
       "      <th>13397</th>\n",
       "      <td>-117.53</td>\n",
       "      <td>34.06</td>\n",
       "      <td>18.0</td>\n",
       "      <td>5605.0</td>\n",
       "      <td>1303.0</td>\n",
       "      <td>4028.0</td>\n",
       "      <td>1145.0</td>\n",
       "      <td>0.29386</td>\n",
       "      <td>0.2328</td>\n",
       "      <td>INLAND</td>\n",
       "    </tr>\n",
       "    <tr>\n",
       "      <th>11797</th>\n",
       "      <td>-121.31</td>\n",
       "      <td>38.97</td>\n",
       "      <td>16.0</td>\n",
       "      <td>1210.0</td>\n",
       "      <td>228.0</td>\n",
       "      <td>726.0</td>\n",
       "      <td>222.0</td>\n",
       "      <td>0.27083</td>\n",
       "      <td>0.1642</td>\n",
       "      <td>INLAND</td>\n",
       "    </tr>\n",
       "    <tr>\n",
       "      <th>6998</th>\n",
       "      <td>-118.04</td>\n",
       "      <td>33.95</td>\n",
       "      <td>36.0</td>\n",
       "      <td>2722.0</td>\n",
       "      <td>515.0</td>\n",
       "      <td>1390.0</td>\n",
       "      <td>486.0</td>\n",
       "      <td>0.38214</td>\n",
       "      <td>0.3570</td>\n",
       "      <td>&lt;1H OCEAN</td>\n",
       "    </tr>\n",
       "    <tr>\n",
       "      <th>2363</th>\n",
       "      <td>-119.58</td>\n",
       "      <td>36.77</td>\n",
       "      <td>19.0</td>\n",
       "      <td>3225.0</td>\n",
       "      <td>548.0</td>\n",
       "      <td>1760.0</td>\n",
       "      <td>542.0</td>\n",
       "      <td>0.40227</td>\n",
       "      <td>0.2530</td>\n",
       "      <td>INLAND</td>\n",
       "    </tr>\n",
       "    <tr>\n",
       "      <th>...</th>\n",
       "      <td>...</td>\n",
       "      <td>...</td>\n",
       "      <td>...</td>\n",
       "      <td>...</td>\n",
       "      <td>...</td>\n",
       "      <td>...</td>\n",
       "      <td>...</td>\n",
       "      <td>...</td>\n",
       "      <td>...</td>\n",
       "      <td>...</td>\n",
       "    </tr>\n",
       "    <tr>\n",
       "      <th>17480</th>\n",
       "      <td>-119.86</td>\n",
       "      <td>34.38</td>\n",
       "      <td>26.0</td>\n",
       "      <td>1626.0</td>\n",
       "      <td>375.0</td>\n",
       "      <td>1580.0</td>\n",
       "      <td>359.0</td>\n",
       "      <td>0.21471</td>\n",
       "      <td>0.3750</td>\n",
       "      <td>NEAR OCEAN</td>\n",
       "    </tr>\n",
       "    <tr>\n",
       "      <th>4983</th>\n",
       "      <td>-118.30</td>\n",
       "      <td>34.00</td>\n",
       "      <td>52.0</td>\n",
       "      <td>1686.0</td>\n",
       "      <td>377.0</td>\n",
       "      <td>982.0</td>\n",
       "      <td>356.0</td>\n",
       "      <td>0.20958</td>\n",
       "      <td>0.2328</td>\n",
       "      <td>&lt;1H OCEAN</td>\n",
       "    </tr>\n",
       "    <tr>\n",
       "      <th>14454</th>\n",
       "      <td>-117.27</td>\n",
       "      <td>32.83</td>\n",
       "      <td>39.0</td>\n",
       "      <td>1877.0</td>\n",
       "      <td>426.0</td>\n",
       "      <td>805.0</td>\n",
       "      <td>409.0</td>\n",
       "      <td>0.38750</td>\n",
       "      <td>0.8200</td>\n",
       "      <td>NEAR OCEAN</td>\n",
       "    </tr>\n",
       "    <tr>\n",
       "      <th>7322</th>\n",
       "      <td>-118.17</td>\n",
       "      <td>33.98</td>\n",
       "      <td>27.0</td>\n",
       "      <td>1871.0</td>\n",
       "      <td>556.0</td>\n",
       "      <td>2542.0</td>\n",
       "      <td>581.0</td>\n",
       "      <td>0.28427</td>\n",
       "      <td>0.3288</td>\n",
       "      <td>&lt;1H OCEAN</td>\n",
       "    </tr>\n",
       "    <tr>\n",
       "      <th>16942</th>\n",
       "      <td>-122.31</td>\n",
       "      <td>37.56</td>\n",
       "      <td>52.0</td>\n",
       "      <td>2351.0</td>\n",
       "      <td>494.0</td>\n",
       "      <td>1126.0</td>\n",
       "      <td>482.0</td>\n",
       "      <td>0.39688</td>\n",
       "      <td>0.7138</td>\n",
       "      <td>NEAR OCEAN</td>\n",
       "    </tr>\n",
       "  </tbody>\n",
       "</table>\n",
       "<p>250 rows × 10 columns</p>\n",
       "</div>"
      ],
      "text/plain": [
       "       longitude  latitude  housing_median_age  total_rooms  total_bedrooms  \\\n",
       "3289     -122.69     39.02                27.0       2199.0           527.0   \n",
       "13397    -117.53     34.06                18.0       5605.0          1303.0   \n",
       "11797    -121.31     38.97                16.0       1210.0           228.0   \n",
       "6998     -118.04     33.95                36.0       2722.0           515.0   \n",
       "2363     -119.58     36.77                19.0       3225.0           548.0   \n",
       "...          ...       ...                 ...          ...             ...   \n",
       "17480    -119.86     34.38                26.0       1626.0           375.0   \n",
       "4983     -118.30     34.00                52.0       1686.0           377.0   \n",
       "14454    -117.27     32.83                39.0       1877.0           426.0   \n",
       "7322     -118.17     33.98                27.0       1871.0           556.0   \n",
       "16942    -122.31     37.56                52.0       2351.0           494.0   \n",
       "\n",
       "       population  households  median_income  median_house_value  \\\n",
       "3289        744.0       316.0        0.21094              0.1448   \n",
       "13397      4028.0      1145.0        0.29386              0.2328   \n",
       "11797       726.0       222.0        0.27083              0.1642   \n",
       "6998       1390.0       486.0        0.38214              0.3570   \n",
       "2363       1760.0       542.0        0.40227              0.2530   \n",
       "...           ...         ...            ...                 ...   \n",
       "17480      1580.0       359.0        0.21471              0.3750   \n",
       "4983        982.0       356.0        0.20958              0.2328   \n",
       "14454       805.0       409.0        0.38750              0.8200   \n",
       "7322       2542.0       581.0        0.28427              0.3288   \n",
       "16942      1126.0       482.0        0.39688              0.7138   \n",
       "\n",
       "      ocean_proximity  \n",
       "3289           INLAND  \n",
       "13397          INLAND  \n",
       "11797          INLAND  \n",
       "6998        <1H OCEAN  \n",
       "2363           INLAND  \n",
       "...               ...  \n",
       "17480      NEAR OCEAN  \n",
       "4983        <1H OCEAN  \n",
       "14454      NEAR OCEAN  \n",
       "7322        <1H OCEAN  \n",
       "16942      NEAR OCEAN  \n",
       "\n",
       "[250 rows x 10 columns]"
      ]
     },
     "execution_count": 10,
     "metadata": {},
     "output_type": "execute_result"
    }
   ],
   "source": [
    "housing_data"
   ]
  },
  {
   "cell_type": "code",
   "execution_count": 11,
   "metadata": {
    "tags": []
   },
   "outputs": [],
   "source": [
    "x_house = housing_data['median_house_value'].to_numpy()\n",
    "y_house = housing_data['median_income'].to_numpy()"
   ]
  },
  {
   "cell_type": "code",
   "execution_count": 12,
   "metadata": {},
   "outputs": [
    {
     "name": "stdout",
     "output_type": "stream",
     "text": [
      "[0.1448 0.2328 0.1642 0.357  0.253  0.4096 0.4338 0.3034 0.9    0.4774\n",
      " 0.6834 0.725  0.4252 0.2652 0.2842 0.725  0.67   0.3074 0.7508 0.2274\n",
      " 0.225  0.2482 0.5864 0.4628 0.917  0.14   0.259  0.1878 0.794  0.3876\n",
      " 0.2864 0.1476 0.4116 0.2172 0.3    0.4524 0.691  0.3248 0.4786 0.3476\n",
      " 0.135  0.4714 0.274  0.3384 0.869  0.3056 0.1672 0.503  0.088  0.86\n",
      " 0.17   0.1738 0.4924 0.5716 0.268  0.3326 0.4292 0.3892 0.7326 0.1688\n",
      " 0.1408 0.4068 0.5218 0.1372 0.7    0.604  0.668  0.2724 0.1392 0.3386\n",
      " 0.0866 0.3404 0.0992 0.3844 0.7742 0.1804 0.2212 0.3986 0.2328 0.1436\n",
      " 0.4182 0.2838 0.196  0.2578 0.4538 0.2316 0.1886 0.3736 0.5524 0.6372\n",
      " 0.154  0.7434 0.3296 0.3154 0.2068 0.2822 0.275  0.5254 0.8694 0.1794\n",
      " 0.3282 0.3288 0.2458 0.2152 0.325  0.11   0.3964 0.4346 0.2562 0.8052\n",
      " 0.4232 0.2908 0.329  0.2528 0.619  0.4716 0.4978 0.1888 0.6066 0.3\n",
      " 0.3836 0.2946 0.2548 0.335  0.295  0.6318 0.2682 0.1568 0.4    0.3968\n",
      " 0.7038 0.2844 0.7122 0.3228 0.1918 0.2104 0.1266 0.375  0.25   0.1214\n",
      " 0.3072 0.1236 0.3352 0.5562 0.8606 0.7232 0.225  0.433  0.6534 0.9\n",
      " 0.124  0.177  0.1654 0.2316 0.3154 0.8    0.4772 0.8144 0.399  0.2652\n",
      " 0.4516 0.1708 0.3636 0.4816 0.4088 0.4308 0.3142 0.4292 0.33   0.491\n",
      " 0.275  0.0872 0.5068 0.3384 0.5704 0.3596 0.5892 0.2824 0.581  0.3266\n",
      " 0.2156 0.219  0.1608 0.2258 0.4864 0.2136 0.5104 0.25   0.5788 0.4884\n",
      " 0.4876 0.325  0.1402 0.416  0.285  0.3844 0.3126 0.3284 0.3772 0.0966\n",
      " 0.1426 0.126  0.5348 0.1714 0.9292 0.4204 0.2476 0.444  0.3334 0.2812\n",
      " 0.3372 0.3062 0.1176 0.7976 0.6324 0.1148 0.7798 0.4414 0.225  0.1678\n",
      " 0.675  0.2594 0.2052 0.1888 0.3496 0.14   0.2492 0.3448 0.5426 0.45\n",
      " 0.4876 0.1648 0.6514 0.4618 0.3062 0.496  0.2796 0.55   0.1176 0.85\n",
      " 0.1436 0.3452 0.4838 0.3086 0.8546 0.375  0.2328 0.82   0.3288 0.7138]\n"
     ]
    }
   ],
   "source": [
    "print(x_house)"
   ]
  },
  {
   "cell_type": "code",
   "execution_count": 13,
   "metadata": {},
   "outputs": [],
   "source": [
    "def plotfit(x, beta):\n",
    "    funct = beta[-1][0]+x*beta[-1][1]\n",
    "    return(funct)\n",
    "\n",
    "def plotfit2(x, beta):\n",
    "    functs=[]\n",
    "    points = np.linspace(0,len(beta),10)\n",
    "    points = [int(x) for x in points]\n",
    "    for i in range(len(points)-1):\n",
    "        functs.append(beta[points[i]][0]+x*beta[points[i]][1])\n",
    "    return(functs)"
   ]
  },
  {
   "cell_type": "markdown",
   "metadata": {},
   "source": [
    "### Fake data"
   ]
  },
  {
   "cell_type": "code",
   "execution_count": 14,
   "metadata": {},
   "outputs": [
    {
     "data": {
      "application/vnd.jupyter.widget-view+json": {
       "model_id": "71205d49950e4e1bb01a808b7698b626",
       "version_major": 2,
       "version_minor": 0
      },
      "text/plain": [
       "Canvas(toolbar=Toolbar(toolitems=[('Home', 'Reset original view', 'home', 'home'), ('Back', 'Back to previous …"
      ]
     },
     "metadata": {},
     "output_type": "display_data"
    },
    {
     "name": "stderr",
     "output_type": "stream",
     "text": [
      "/Users/ondrea/MLandstats/OStats/ostats/ML.py:40: RuntimeWarning: divide by zero encountered in double_scalars\n",
      "  stop_condition = (np.abs(theta[1] - store_theta[-1][1])/store_theta[-1][1] < epsilon) and (np.abs(theta[0] -\\\n"
     ]
    }
   ],
   "source": [
    "ifig=1;plt.close(ifig);plt.figure(ifig,figsize=(7,6), dpi=120)\n",
    "theta_fake, J_fake = ML.GradDes_Regression(x=fakex, y=fakey, gamma=0.01)\n",
    "plt.scatter(fakex,fakey, c='darkred',  s=15)\n",
    "nlines = 10\n",
    "for i in range(nlines):\n",
    "    plt.plot(fakex,plotfit2(fakex,beta=theta_fake)[i-1], color=dp.ColorGradient(stop=(11, 0, 59), n=nlines)[i],lw=1)\n"
   ]
  },
  {
   "cell_type": "markdown",
   "metadata": {},
   "source": [
    "### Housing data"
   ]
  },
  {
   "cell_type": "code",
   "execution_count": 122,
   "metadata": {},
   "outputs": [],
   "source": [
    "theta_house_normal=ML.Normal_Linear_Regression(x=x_house, y=y_house)\n",
    "ynormal = np.array(theta_house_normal[1])*x_house + np.array(theta_house_normal[0])\n",
    "\n",
    "theta_house, J_house = ML.GradDes_Regression(x=x_house, y=y_house, gamma=1e-2, epsilon = 1e-6, theta_init = np.array([0.23,0.37] ))\n",
    "theta_house_alt, J_house_alt = ML.GradDes_Regression(x=x_house, y=y_house, gamma=1e-3,epsilon = 1e-5, theta_init = np.array([0.5,0.5]))\n",
    "y = np.array(theta_house[-1][1])*x_house + np.array(theta_house[-1][0])\n",
    "yalt = np.array(theta_house_alt[-1][1])*x_house + np.array(theta_house_alt[-1][0])"
   ]
  },
  {
   "cell_type": "code",
   "execution_count": 129,
   "metadata": {},
   "outputs": [
    {
     "data": {
      "application/vnd.jupyter.widget-view+json": {
       "model_id": "9eff8a611a2f459d818d986b81a7e888",
       "version_major": 2,
       "version_minor": 0
      },
      "text/plain": [
       "Canvas(toolbar=Toolbar(toolitems=[('Home', 'Reset original view', 'home', 'home'), ('Back', 'Back to previous …"
      ]
     },
     "metadata": {},
     "output_type": "display_data"
    },
    {
     "data": {
      "text/plain": [
       "<matplotlib.legend.Legend at 0x7fc45bc5b790>"
      ]
     },
     "execution_count": 129,
     "metadata": {},
     "output_type": "execute_result"
    }
   ],
   "source": [
    "ifig=2;plt.close(ifig);plt.figure(ifig,figsize=(7,6), dpi=120)\n",
    "\n",
    "plt.scatter(x_house, y=y_house, c='g',  s=15, label='data')\n",
    "plt.plot(x_house,ynormal, c='b', label='Analytic', lw=3)\n",
    "nlines = 10\n",
    "#for i in range(nlines):\n",
    "#    plt.plot(x_house,plotfit2(x_house,beta=theta_house)[i-1],\\\n",
    "#             color=dp.ColorGradient(stop=(0, 200, 90), n=nlines)[i],lw=1)\n",
    "#    plt.plot(x_house,plotfit2(x_house,beta=theta_house_alt)[i-1],\\\n",
    "#             color=dp.ColorGradient(stop=(140, 20, 90), n=nlines)[i],lw=1)\n",
    "\n",
    "plt.plot(x_house,y, c='k', label='gamma=1e-2, epsilon = 1e-6')\n",
    "plt.plot(x_house,yalt, c='r', label = 'gamma=1e-3,epsilon = 1e-5')\n",
    "plt.legend()"
   ]
  },
  {
   "cell_type": "code",
   "execution_count": 17,
   "metadata": {},
   "outputs": [],
   "source": [
    "### Climate data\n",
    "theta_climate, J_climate = ML.GradDes_Regression(x=year, y=tempa, gamma=0.01, epsilon=0.0001, theta_init = np.array([0.5,0.5]))\n",
    "theta_climate_normal=ML.Normal_Linear_Regression(x=year, y=tempa)\n",
    "ynormal_climate = np.array(theta_climate_normal[1])*year + np.array(theta_climate_normal[0])"
   ]
  },
  {
   "cell_type": "code",
   "execution_count": 18,
   "metadata": {},
   "outputs": [
    {
     "data": {
      "application/vnd.jupyter.widget-view+json": {
       "model_id": "42580938faf44f30a745de8d412487a8",
       "version_major": 2,
       "version_minor": 0
      },
      "text/plain": [
       "Canvas(toolbar=Toolbar(toolitems=[('Home', 'Reset original view', 'home', 'home'), ('Back', 'Back to previous …"
      ]
     },
     "metadata": {},
     "output_type": "display_data"
    }
   ],
   "source": [
    "ifig=3;plt.close(ifig);plt.figure(ifig,figsize=(7,6), dpi=120)\n",
    "\n",
    "plt.scatter(year, y=tempa, c='orange',  s=15)\n",
    "plt.plot(year,ynormal_climate, c='b')\n",
    "nlines = 10\n",
    "for i in range(nlines):\n",
    "    plt.plot(year,plotfit2(year,beta=theta_climate)[i-1],\\\n",
    "             color=dp.ColorGradient(stop=(31, 80, 40), n=nlines)[i],lw=1)"
   ]
  },
  {
   "cell_type": "markdown",
   "metadata": {},
   "source": [
    "## Now take a look at convergence by plotting $J(\\theta)$ vs $(\\theta)$ or $J(\\theta)$ vs n iter"
   ]
  },
  {
   "cell_type": "code",
   "execution_count": 104,
   "metadata": {},
   "outputs": [],
   "source": [
    "theta_house, J_house = ML.GradDes_Regression(x=x_house, y=y_house, gamma=0.001, epsilon = 0.000001, theta_init = np.array([0.23,0.37] ))\n",
    "theta_house_alt, J_house_alt = ML.GradDes_Regression(x=x_house, y=y_house, gamma=0.001,epsilon = 0.00001, theta_init = np.array([0.5,0.5]))"
   ]
  },
  {
   "cell_type": "code",
   "execution_count": 105,
   "metadata": {},
   "outputs": [
    {
     "data": {
      "application/vnd.jupyter.widget-view+json": {
       "model_id": "b5f3b6fdcdd7482d9e85e36288b60b56",
       "version_major": 2,
       "version_minor": 0
      },
      "text/plain": [
       "Canvas(toolbar=Toolbar(toolitems=[('Home', 'Reset original view', 'home', 'home'), ('Back', 'Back to previous …"
      ]
     },
     "metadata": {},
     "output_type": "display_data"
    },
    {
     "data": {
      "text/plain": [
       "Text(0, 0.5, 'theta')"
      ]
     },
     "execution_count": 105,
     "metadata": {},
     "output_type": "execute_result"
    }
   ],
   "source": [
    "#For the two instances of housing data\n",
    "ifig=4;plt.close(ifig);plt.figure(ifig,figsize=(7,6), dpi=120)\n",
    "theta0 = [x[0] for x in theta_house]\n",
    "theta0_alt = [x[0] for x in theta_house_alt]\n",
    "theta1 = [x[1] for x in theta_house]\n",
    "theta1_alt = [x[1] for x in theta_house_alt]\n",
    "\n",
    "niter = range(len(theta0))\n",
    "niter2 = range(len(theta0_alt))\n",
    "\n",
    "plt.plot(J_house, theta0, color = 'k')\n",
    "plt.plot(J_house_alt, theta0_alt, marker='.', ls='',color='k', alpha=0.2)\n",
    "plt.plot(J_house, theta1, color = 'r')\n",
    "plt.plot(J_house_alt, theta1_alt, marker='.',ls='', color = 'r', alpha=0.1)\n",
    "plt.xlabel('J')\n",
    "plt.ylabel('theta')"
   ]
  },
  {
   "cell_type": "code",
   "execution_count": 106,
   "metadata": {},
   "outputs": [
    {
     "data": {
      "application/vnd.jupyter.widget-view+json": {
       "model_id": "7cbc14e9520e466a9b6774a26ac5a0cd",
       "version_major": 2,
       "version_minor": 0
      },
      "text/plain": [
       "Canvas(toolbar=Toolbar(toolitems=[('Home', 'Reset original view', 'home', 'home'), ('Back', 'Back to previous …"
      ]
     },
     "metadata": {},
     "output_type": "display_data"
    },
    {
     "data": {
      "text/plain": [
       "Text(0, 0.5, 'J')"
      ]
     },
     "execution_count": 106,
     "metadata": {},
     "output_type": "execute_result"
    }
   ],
   "source": [
    "ifig=5;plt.close(ifig);plt.figure(ifig,figsize=(7,6), dpi=120)\n",
    "plt.plot(niter, J_house, color = 'b', lw=4)\n",
    "plt.plot(niter2, J_house_alt, marker='_', color='k')\n",
    "plt.xlabel('Iterations')\n",
    "plt.ylabel('J')"
   ]
  },
  {
   "cell_type": "code",
   "execution_count": 107,
   "metadata": {},
   "outputs": [
    {
     "name": "stdout",
     "output_type": "stream",
     "text": [
      "3.677570385404085 3.696615819248713\n"
     ]
    }
   ],
   "source": [
    "print(J_house[-1],J_house_alt[-1])\n"
   ]
  },
  {
   "cell_type": "code",
   "execution_count": 108,
   "metadata": {},
   "outputs": [
    {
     "data": {
      "application/vnd.jupyter.widget-view+json": {
       "model_id": "37c4ab46aeae4dc9b1d2e58afbb30493",
       "version_major": 2,
       "version_minor": 0
      },
      "text/plain": [
       "Canvas(toolbar=Toolbar(toolitems=[('Home', 'Reset original view', 'home', 'home'), ('Back', 'Back to previous …"
      ]
     },
     "metadata": {},
     "output_type": "display_data"
    },
    {
     "data": {
      "text/plain": [
       "[<matplotlib.lines.Line2D at 0x7fc4586a42b0>]"
      ]
     },
     "execution_count": 108,
     "metadata": {},
     "output_type": "execute_result"
    }
   ],
   "source": [
    "#For the two instances of housing data\n",
    "ifig=6;plt.close(ifig);plt.figure(ifig,figsize=(7,6), dpi=120)\n",
    "plt.plot(theta0, theta1, c='b', lw=3)\n",
    "plt.plot(theta0_alt, theta1_alt, c='y')"
   ]
  },
  {
   "cell_type": "code",
   "execution_count": 109,
   "metadata": {},
   "outputs": [
    {
     "data": {
      "application/vnd.jupyter.widget-view+json": {
       "model_id": "274717a4015d4b8caadae3ec948526af",
       "version_major": 2,
       "version_minor": 0
      },
      "text/plain": [
       "Canvas(toolbar=Toolbar(toolitems=[('Home', 'Reset original view', 'home', 'home'), ('Back', 'Back to previous …"
      ]
     },
     "metadata": {},
     "output_type": "display_data"
    },
    {
     "data": {
      "text/plain": [
       "<matplotlib.legend.Legend at 0x7fc4586e6e80>"
      ]
     },
     "execution_count": 109,
     "metadata": {},
     "output_type": "execute_result"
    }
   ],
   "source": [
    "ifig=7;plt.close(ifig);plt.figure(ifig,figsize=(7,6), dpi=120)\n",
    "plt.plot(niter,theta0, label='theta0')\n",
    "plt.plot(niter,theta1, label='theta1 alt')\n",
    "\n",
    "plt.plot(niter2,theta0_alt, label='theta0 alt')\n",
    "plt.plot(niter2,theta1_alt, label='theta1 alt')\n",
    "plt.legend()"
   ]
  },
  {
   "cell_type": "code",
   "execution_count": 110,
   "metadata": {},
   "outputs": [],
   "source": [
    "def cost_func(theta0, theta1,x,y):\n",
    "    h = theta0 + theta1*x\n",
    "    theta0 = np.atleast_3d(np.asarray(theta0))\n",
    "    theta1 = np.atleast_3d(np.asarray(theta1))\n",
    "    return np.average((y-h)**2, axis=2)/2"
   ]
  },
  {
   "cell_type": "code",
   "execution_count": 111,
   "metadata": {},
   "outputs": [],
   "source": [
    "th0,th1 = np.linspace(0, 1.0, len(x_house)),np.linspace(0, 1.0, len(x_house))\n",
    "\n",
    "J_grid = cost_func(th0[np.newaxis,:,np.newaxis],\n",
    "                   th1[:,np.newaxis,np.newaxis],x_house, y_house)\n",
    "#th0,th1 = np.meshgrid(th0,th1)"
   ]
  },
  {
   "cell_type": "code",
   "execution_count": 112,
   "metadata": {},
   "outputs": [
    {
     "data": {
      "application/vnd.jupyter.widget-view+json": {
       "model_id": "1b7a2f92da214d7dbd6599e05b15c005",
       "version_major": 2,
       "version_minor": 0
      },
      "text/plain": [
       "Canvas(toolbar=Toolbar(toolitems=[('Home', 'Reset original view', 'home', 'home'), ('Back', 'Back to previous …"
      ]
     },
     "metadata": {},
     "output_type": "display_data"
    },
    {
     "data": {
      "text/plain": [
       "<matplotlib.collections.PathCollection at 0x7fc482c5b790>"
      ]
     },
     "execution_count": 112,
     "metadata": {},
     "output_type": "execute_result"
    }
   ],
   "source": [
    "ifig=8;plt.close(ifig);plt.figure(ifig,figsize=(7,6), dpi=120)\n",
    "color_bar_idxs = np.linspace(0,len(theta0),len(theta0))\n",
    "color_bar_idxs_alt = np.linspace(0,len(theta0_alt),len(theta0_alt))\n",
    "\n",
    "plt.contourf(th0,th1, J_grid)\n",
    "plt.scatter(theta0, theta1, c= color_bar_idxs, cmap ='magma', s =1)\n",
    "plt.scatter(theta0_alt, theta1_alt, c= color_bar_idxs_alt, cmap ='cividis', s =1)\n",
    "plt.scatter(theta_house_normal[0], theta_house_normal[1], c='k')"
   ]
  },
  {
   "cell_type": "code",
   "execution_count": null,
   "metadata": {},
   "outputs": [],
   "source": []
  }
 ],
 "metadata": {
  "kernelspec": {
   "display_name": "Python 3",
   "language": "python",
   "name": "python3"
  },
  "language_info": {
   "codemirror_mode": {
    "name": "ipython",
    "version": 3
   },
   "file_extension": ".py",
   "mimetype": "text/x-python",
   "name": "python",
   "nbconvert_exporter": "python",
   "pygments_lexer": "ipython3",
   "version": "3.8.8"
  }
 },
 "nbformat": 4,
 "nbformat_minor": 2
}
