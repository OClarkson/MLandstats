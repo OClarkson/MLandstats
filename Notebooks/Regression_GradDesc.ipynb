{
 "cells": [
  {
   "cell_type": "markdown",
   "metadata": {},
   "source": [
    "## Optimization using gradient descent"
   ]
  },
  {
   "cell_type": "markdown",
   "metadata": {},
   "source": [
    "This notebook demonstrates multivariate linear fits using the gradient descent method.\n"
   ]
  },
  {
   "cell_type": "code",
   "execution_count": 1,
   "metadata": {},
   "outputs": [],
   "source": [
    "%matplotlib widget\n",
    "\n",
    "import numpy as np\n",
    "import pandas as pd\n",
    "import matplotlib.pyplot as plt\n",
    "import matplotlib.colors as colors\n",
    "import matplotlib.cm as cm\n",
    "\n",
    "import sys\n",
    "sys.path.append('/Users/ondrea/MLandstats/OStats/')\n",
    "from ostats import ML\n",
    "from ostats import dplot as dp\n",
    "#from mpltools import color as colors"
   ]
  },
  {
   "cell_type": "code",
   "execution_count": 2,
   "metadata": {},
   "outputs": [
    {
     "name": "stdout",
     "output_type": "stream",
     "text": [
      "--2021-06-16 11:35:46--  https://raw.githubusercontent.com/ageron/handson-ml2/master/datasets/housing/housing.csv\n",
      "Resolving raw.githubusercontent.com (raw.githubusercontent.com)... 185.199.111.133, 185.199.109.133, 185.199.110.133, ...\n",
      "Connecting to raw.githubusercontent.com (raw.githubusercontent.com)|185.199.111.133|:443... connected.\n",
      "HTTP request sent, awaiting response... 200 OK\n",
      "Length: 1423529 (1.4M) [text/plain]\n",
      "Saving to: ‘./data/housing.csv’\n",
      "\n",
      "housing.csv         100%[===================>]   1.36M  7.19MB/s    in 0.2s    \n",
      "\n",
      "2021-06-16 11:35:46 (7.19 MB/s) - ‘./data/housing.csv’ saved [1423529/1423529]\n",
      "\n",
      "--2021-06-16 11:35:46--  https://datahub.io/core/global-temp/r/annual.csv\n",
      "Resolving datahub.io (datahub.io)... 172.67.157.38, 104.21.40.221\n",
      "Connecting to datahub.io (datahub.io)|172.67.157.38|:443... connected.\n",
      "HTTP request sent, awaiting response... 302 Found\n",
      "Location: https://pkgstore.datahub.io/core/global-temp/annual_csv/data/a26b154688b061cdd04f1df36e4408be/annual_csv.csv [following]\n",
      "--2021-06-16 11:35:48--  https://pkgstore.datahub.io/core/global-temp/annual_csv/data/a26b154688b061cdd04f1df36e4408be/annual_csv.csv\n",
      "Resolving pkgstore.datahub.io (pkgstore.datahub.io)... 104.21.40.221, 172.67.157.38\n",
      "Connecting to pkgstore.datahub.io (pkgstore.datahub.io)|104.21.40.221|:443... connected.\n",
      "HTTP request sent, awaiting response... 200 OK\n",
      "Length: 5230 (5.1K) [text/plain]\n",
      "Saving to: ‘./data/annual.csv.10’\n",
      "\n",
      "annual.csv.10       100%[===================>]   5.11K  --.-KB/s    in 0.004s  \n",
      "\n",
      "2021-06-16 11:35:48 (1.26 MB/s) - ‘./data/annual.csv.10’ saved [5230/5230]\n",
      "\n"
     ]
    }
   ],
   "source": [
    "data_range = np.random.RandomState(1) #make up some fake data for testing\n",
    "fakex = 10 * data_range.rand(50)\n",
    "fakey = 3 * fakex - 5 + data_range.randn(50)\n",
    "\n",
    "\n",
    "!rm -rf ./data/housing*\n",
    "!wget -P ./data https://raw.githubusercontent.com/ageron/handson-ml2/master/datasets/housing/housing.csv\n",
    "    \n",
    "#get some data for testing\n",
    "!wget -P ./data https://datahub.io/core/global-temp/r/annual.csv"
   ]
  },
  {
   "cell_type": "code",
   "execution_count": 3,
   "metadata": {},
   "outputs": [],
   "source": [
    "year, tempa = np.loadtxt('./data/annual.csv', skiprows=1, delimiter=\",\", usecols=(1,2), unpack=True)\n",
    "year = np.array([int(y) for y in year])/np.max(year); tempa=np.array(tempa)+1"
   ]
  },
  {
   "cell_type": "code",
   "execution_count": 4,
   "metadata": {},
   "outputs": [],
   "source": [
    "year = 1 + (year - np.mean(year))/(np.max(year)-np.min(year))"
   ]
  },
  {
   "cell_type": "code",
   "execution_count": 5,
   "metadata": {},
   "outputs": [],
   "source": [
    "#year"
   ]
  },
  {
   "cell_type": "code",
   "execution_count": 6,
   "metadata": {},
   "outputs": [],
   "source": [
    "housing_data = pd.read_csv('./data/housing.csv')"
   ]
  },
  {
   "cell_type": "code",
   "execution_count": 7,
   "metadata": {},
   "outputs": [
    {
     "data": {
      "text/html": [
       "<div>\n",
       "<style scoped>\n",
       "    .dataframe tbody tr th:only-of-type {\n",
       "        vertical-align: middle;\n",
       "    }\n",
       "\n",
       "    .dataframe tbody tr th {\n",
       "        vertical-align: top;\n",
       "    }\n",
       "\n",
       "    .dataframe thead th {\n",
       "        text-align: right;\n",
       "    }\n",
       "</style>\n",
       "<table border=\"1\" class=\"dataframe\">\n",
       "  <thead>\n",
       "    <tr style=\"text-align: right;\">\n",
       "      <th></th>\n",
       "      <th>longitude</th>\n",
       "      <th>latitude</th>\n",
       "      <th>housing_median_age</th>\n",
       "      <th>total_rooms</th>\n",
       "      <th>total_bedrooms</th>\n",
       "      <th>population</th>\n",
       "      <th>households</th>\n",
       "      <th>median_income</th>\n",
       "      <th>median_house_value</th>\n",
       "      <th>ocean_proximity</th>\n",
       "    </tr>\n",
       "  </thead>\n",
       "  <tbody>\n",
       "    <tr>\n",
       "      <th>0</th>\n",
       "      <td>-122.23</td>\n",
       "      <td>37.88</td>\n",
       "      <td>41.0</td>\n",
       "      <td>880.0</td>\n",
       "      <td>129.0</td>\n",
       "      <td>322.0</td>\n",
       "      <td>126.0</td>\n",
       "      <td>8.3252</td>\n",
       "      <td>452600.0</td>\n",
       "      <td>NEAR BAY</td>\n",
       "    </tr>\n",
       "    <tr>\n",
       "      <th>1</th>\n",
       "      <td>-122.22</td>\n",
       "      <td>37.86</td>\n",
       "      <td>21.0</td>\n",
       "      <td>7099.0</td>\n",
       "      <td>1106.0</td>\n",
       "      <td>2401.0</td>\n",
       "      <td>1138.0</td>\n",
       "      <td>8.3014</td>\n",
       "      <td>358500.0</td>\n",
       "      <td>NEAR BAY</td>\n",
       "    </tr>\n",
       "    <tr>\n",
       "      <th>2</th>\n",
       "      <td>-122.24</td>\n",
       "      <td>37.85</td>\n",
       "      <td>52.0</td>\n",
       "      <td>1467.0</td>\n",
       "      <td>190.0</td>\n",
       "      <td>496.0</td>\n",
       "      <td>177.0</td>\n",
       "      <td>7.2574</td>\n",
       "      <td>352100.0</td>\n",
       "      <td>NEAR BAY</td>\n",
       "    </tr>\n",
       "    <tr>\n",
       "      <th>3</th>\n",
       "      <td>-122.25</td>\n",
       "      <td>37.85</td>\n",
       "      <td>52.0</td>\n",
       "      <td>1274.0</td>\n",
       "      <td>235.0</td>\n",
       "      <td>558.0</td>\n",
       "      <td>219.0</td>\n",
       "      <td>5.6431</td>\n",
       "      <td>341300.0</td>\n",
       "      <td>NEAR BAY</td>\n",
       "    </tr>\n",
       "    <tr>\n",
       "      <th>4</th>\n",
       "      <td>-122.25</td>\n",
       "      <td>37.85</td>\n",
       "      <td>52.0</td>\n",
       "      <td>1627.0</td>\n",
       "      <td>280.0</td>\n",
       "      <td>565.0</td>\n",
       "      <td>259.0</td>\n",
       "      <td>3.8462</td>\n",
       "      <td>342200.0</td>\n",
       "      <td>NEAR BAY</td>\n",
       "    </tr>\n",
       "    <tr>\n",
       "      <th>...</th>\n",
       "      <td>...</td>\n",
       "      <td>...</td>\n",
       "      <td>...</td>\n",
       "      <td>...</td>\n",
       "      <td>...</td>\n",
       "      <td>...</td>\n",
       "      <td>...</td>\n",
       "      <td>...</td>\n",
       "      <td>...</td>\n",
       "      <td>...</td>\n",
       "    </tr>\n",
       "    <tr>\n",
       "      <th>20635</th>\n",
       "      <td>-121.09</td>\n",
       "      <td>39.48</td>\n",
       "      <td>25.0</td>\n",
       "      <td>1665.0</td>\n",
       "      <td>374.0</td>\n",
       "      <td>845.0</td>\n",
       "      <td>330.0</td>\n",
       "      <td>1.5603</td>\n",
       "      <td>78100.0</td>\n",
       "      <td>INLAND</td>\n",
       "    </tr>\n",
       "    <tr>\n",
       "      <th>20636</th>\n",
       "      <td>-121.21</td>\n",
       "      <td>39.49</td>\n",
       "      <td>18.0</td>\n",
       "      <td>697.0</td>\n",
       "      <td>150.0</td>\n",
       "      <td>356.0</td>\n",
       "      <td>114.0</td>\n",
       "      <td>2.5568</td>\n",
       "      <td>77100.0</td>\n",
       "      <td>INLAND</td>\n",
       "    </tr>\n",
       "    <tr>\n",
       "      <th>20637</th>\n",
       "      <td>-121.22</td>\n",
       "      <td>39.43</td>\n",
       "      <td>17.0</td>\n",
       "      <td>2254.0</td>\n",
       "      <td>485.0</td>\n",
       "      <td>1007.0</td>\n",
       "      <td>433.0</td>\n",
       "      <td>1.7000</td>\n",
       "      <td>92300.0</td>\n",
       "      <td>INLAND</td>\n",
       "    </tr>\n",
       "    <tr>\n",
       "      <th>20638</th>\n",
       "      <td>-121.32</td>\n",
       "      <td>39.43</td>\n",
       "      <td>18.0</td>\n",
       "      <td>1860.0</td>\n",
       "      <td>409.0</td>\n",
       "      <td>741.0</td>\n",
       "      <td>349.0</td>\n",
       "      <td>1.8672</td>\n",
       "      <td>84700.0</td>\n",
       "      <td>INLAND</td>\n",
       "    </tr>\n",
       "    <tr>\n",
       "      <th>20639</th>\n",
       "      <td>-121.24</td>\n",
       "      <td>39.37</td>\n",
       "      <td>16.0</td>\n",
       "      <td>2785.0</td>\n",
       "      <td>616.0</td>\n",
       "      <td>1387.0</td>\n",
       "      <td>530.0</td>\n",
       "      <td>2.3886</td>\n",
       "      <td>89400.0</td>\n",
       "      <td>INLAND</td>\n",
       "    </tr>\n",
       "  </tbody>\n",
       "</table>\n",
       "<p>20640 rows × 10 columns</p>\n",
       "</div>"
      ],
      "text/plain": [
       "       longitude  latitude  housing_median_age  total_rooms  total_bedrooms  \\\n",
       "0        -122.23     37.88                41.0        880.0           129.0   \n",
       "1        -122.22     37.86                21.0       7099.0          1106.0   \n",
       "2        -122.24     37.85                52.0       1467.0           190.0   \n",
       "3        -122.25     37.85                52.0       1274.0           235.0   \n",
       "4        -122.25     37.85                52.0       1627.0           280.0   \n",
       "...          ...       ...                 ...          ...             ...   \n",
       "20635    -121.09     39.48                25.0       1665.0           374.0   \n",
       "20636    -121.21     39.49                18.0        697.0           150.0   \n",
       "20637    -121.22     39.43                17.0       2254.0           485.0   \n",
       "20638    -121.32     39.43                18.0       1860.0           409.0   \n",
       "20639    -121.24     39.37                16.0       2785.0           616.0   \n",
       "\n",
       "       population  households  median_income  median_house_value  \\\n",
       "0           322.0       126.0         8.3252            452600.0   \n",
       "1          2401.0      1138.0         8.3014            358500.0   \n",
       "2           496.0       177.0         7.2574            352100.0   \n",
       "3           558.0       219.0         5.6431            341300.0   \n",
       "4           565.0       259.0         3.8462            342200.0   \n",
       "...           ...         ...            ...                 ...   \n",
       "20635       845.0       330.0         1.5603             78100.0   \n",
       "20636       356.0       114.0         2.5568             77100.0   \n",
       "20637      1007.0       433.0         1.7000             92300.0   \n",
       "20638       741.0       349.0         1.8672             84700.0   \n",
       "20639      1387.0       530.0         2.3886             89400.0   \n",
       "\n",
       "      ocean_proximity  \n",
       "0            NEAR BAY  \n",
       "1            NEAR BAY  \n",
       "2            NEAR BAY  \n",
       "3            NEAR BAY  \n",
       "4            NEAR BAY  \n",
       "...               ...  \n",
       "20635          INLAND  \n",
       "20636          INLAND  \n",
       "20637          INLAND  \n",
       "20638          INLAND  \n",
       "20639          INLAND  \n",
       "\n",
       "[20640 rows x 10 columns]"
      ]
     },
     "execution_count": 7,
     "metadata": {},
     "output_type": "execute_result"
    }
   ],
   "source": [
    "housing_data"
   ]
  },
  {
   "cell_type": "code",
   "execution_count": 8,
   "metadata": {},
   "outputs": [],
   "source": [
    "housing_data = housing_data[housing_data.median_house_value != 500001] #a bunch of values are set to this\n",
    "housing_data = housing_data.sample(n=250) #smaller sample\n",
    "housing_data.median_house_value = housing_data.median_house_value/500000\n",
    "housing_data.median_income= housing_data.median_income/10"
   ]
  },
  {
   "cell_type": "code",
   "execution_count": 9,
   "metadata": {},
   "outputs": [
    {
     "data": {
      "text/plain": [
       "0.7569899999999999"
      ]
     },
     "execution_count": 9,
     "metadata": {},
     "output_type": "execute_result"
    }
   ],
   "source": [
    "housing_data.median_income.max()"
   ]
  },
  {
   "cell_type": "code",
   "execution_count": 10,
   "metadata": {},
   "outputs": [
    {
     "data": {
      "text/html": [
       "<div>\n",
       "<style scoped>\n",
       "    .dataframe tbody tr th:only-of-type {\n",
       "        vertical-align: middle;\n",
       "    }\n",
       "\n",
       "    .dataframe tbody tr th {\n",
       "        vertical-align: top;\n",
       "    }\n",
       "\n",
       "    .dataframe thead th {\n",
       "        text-align: right;\n",
       "    }\n",
       "</style>\n",
       "<table border=\"1\" class=\"dataframe\">\n",
       "  <thead>\n",
       "    <tr style=\"text-align: right;\">\n",
       "      <th></th>\n",
       "      <th>longitude</th>\n",
       "      <th>latitude</th>\n",
       "      <th>housing_median_age</th>\n",
       "      <th>total_rooms</th>\n",
       "      <th>total_bedrooms</th>\n",
       "      <th>population</th>\n",
       "      <th>households</th>\n",
       "      <th>median_income</th>\n",
       "      <th>median_house_value</th>\n",
       "      <th>ocean_proximity</th>\n",
       "    </tr>\n",
       "  </thead>\n",
       "  <tbody>\n",
       "    <tr>\n",
       "      <th>7235</th>\n",
       "      <td>-118.14</td>\n",
       "      <td>34.01</td>\n",
       "      <td>46.0</td>\n",
       "      <td>1746.0</td>\n",
       "      <td>447.0</td>\n",
       "      <td>1296.0</td>\n",
       "      <td>392.0</td>\n",
       "      <td>0.23929</td>\n",
       "      <td>0.3136</td>\n",
       "      <td>&lt;1H OCEAN</td>\n",
       "    </tr>\n",
       "    <tr>\n",
       "      <th>14376</th>\n",
       "      <td>-117.25</td>\n",
       "      <td>32.72</td>\n",
       "      <td>33.0</td>\n",
       "      <td>1677.0</td>\n",
       "      <td>228.0</td>\n",
       "      <td>629.0</td>\n",
       "      <td>239.0</td>\n",
       "      <td>0.65970</td>\n",
       "      <td>0.9928</td>\n",
       "      <td>NEAR OCEAN</td>\n",
       "    </tr>\n",
       "    <tr>\n",
       "      <th>9575</th>\n",
       "      <td>-120.58</td>\n",
       "      <td>37.36</td>\n",
       "      <td>33.0</td>\n",
       "      <td>3564.0</td>\n",
       "      <td>716.0</td>\n",
       "      <td>2603.0</td>\n",
       "      <td>696.0</td>\n",
       "      <td>0.22179</td>\n",
       "      <td>0.1350</td>\n",
       "      <td>INLAND</td>\n",
       "    </tr>\n",
       "    <tr>\n",
       "      <th>12496</th>\n",
       "      <td>-121.45</td>\n",
       "      <td>38.57</td>\n",
       "      <td>52.0</td>\n",
       "      <td>2006.0</td>\n",
       "      <td>412.0</td>\n",
       "      <td>825.0</td>\n",
       "      <td>384.0</td>\n",
       "      <td>0.32963</td>\n",
       "      <td>0.4722</td>\n",
       "      <td>INLAND</td>\n",
       "    </tr>\n",
       "    <tr>\n",
       "      <th>18704</th>\n",
       "      <td>-122.38</td>\n",
       "      <td>40.56</td>\n",
       "      <td>23.0</td>\n",
       "      <td>2281.0</td>\n",
       "      <td>408.0</td>\n",
       "      <td>1164.0</td>\n",
       "      <td>420.0</td>\n",
       "      <td>0.35347</td>\n",
       "      <td>0.2024</td>\n",
       "      <td>INLAND</td>\n",
       "    </tr>\n",
       "    <tr>\n",
       "      <th>...</th>\n",
       "      <td>...</td>\n",
       "      <td>...</td>\n",
       "      <td>...</td>\n",
       "      <td>...</td>\n",
       "      <td>...</td>\n",
       "      <td>...</td>\n",
       "      <td>...</td>\n",
       "      <td>...</td>\n",
       "      <td>...</td>\n",
       "      <td>...</td>\n",
       "    </tr>\n",
       "    <tr>\n",
       "      <th>11390</th>\n",
       "      <td>-117.97</td>\n",
       "      <td>33.74</td>\n",
       "      <td>16.0</td>\n",
       "      <td>1735.0</td>\n",
       "      <td>380.0</td>\n",
       "      <td>784.0</td>\n",
       "      <td>360.0</td>\n",
       "      <td>0.42566</td>\n",
       "      <td>0.2784</td>\n",
       "      <td>&lt;1H OCEAN</td>\n",
       "    </tr>\n",
       "    <tr>\n",
       "      <th>16544</th>\n",
       "      <td>-121.23</td>\n",
       "      <td>37.80</td>\n",
       "      <td>11.0</td>\n",
       "      <td>2451.0</td>\n",
       "      <td>665.0</td>\n",
       "      <td>1155.0</td>\n",
       "      <td>533.0</td>\n",
       "      <td>0.22254</td>\n",
       "      <td>0.2616</td>\n",
       "      <td>INLAND</td>\n",
       "    </tr>\n",
       "    <tr>\n",
       "      <th>7778</th>\n",
       "      <td>-118.08</td>\n",
       "      <td>33.91</td>\n",
       "      <td>30.0</td>\n",
       "      <td>3259.0</td>\n",
       "      <td>942.0</td>\n",
       "      <td>2744.0</td>\n",
       "      <td>895.0</td>\n",
       "      <td>0.28608</td>\n",
       "      <td>0.3312</td>\n",
       "      <td>&lt;1H OCEAN</td>\n",
       "    </tr>\n",
       "    <tr>\n",
       "      <th>20221</th>\n",
       "      <td>-119.27</td>\n",
       "      <td>34.29</td>\n",
       "      <td>32.0</td>\n",
       "      <td>2274.0</td>\n",
       "      <td>406.0</td>\n",
       "      <td>982.0</td>\n",
       "      <td>393.0</td>\n",
       "      <td>0.53254</td>\n",
       "      <td>0.7704</td>\n",
       "      <td>NEAR OCEAN</td>\n",
       "    </tr>\n",
       "    <tr>\n",
       "      <th>17195</th>\n",
       "      <td>-119.75</td>\n",
       "      <td>34.45</td>\n",
       "      <td>26.0</td>\n",
       "      <td>3578.0</td>\n",
       "      <td>677.0</td>\n",
       "      <td>1504.0</td>\n",
       "      <td>618.0</td>\n",
       "      <td>0.41375</td>\n",
       "      <td>0.7900</td>\n",
       "      <td>NEAR OCEAN</td>\n",
       "    </tr>\n",
       "  </tbody>\n",
       "</table>\n",
       "<p>250 rows × 10 columns</p>\n",
       "</div>"
      ],
      "text/plain": [
       "       longitude  latitude  housing_median_age  total_rooms  total_bedrooms  \\\n",
       "7235     -118.14     34.01                46.0       1746.0           447.0   \n",
       "14376    -117.25     32.72                33.0       1677.0           228.0   \n",
       "9575     -120.58     37.36                33.0       3564.0           716.0   \n",
       "12496    -121.45     38.57                52.0       2006.0           412.0   \n",
       "18704    -122.38     40.56                23.0       2281.0           408.0   \n",
       "...          ...       ...                 ...          ...             ...   \n",
       "11390    -117.97     33.74                16.0       1735.0           380.0   \n",
       "16544    -121.23     37.80                11.0       2451.0           665.0   \n",
       "7778     -118.08     33.91                30.0       3259.0           942.0   \n",
       "20221    -119.27     34.29                32.0       2274.0           406.0   \n",
       "17195    -119.75     34.45                26.0       3578.0           677.0   \n",
       "\n",
       "       population  households  median_income  median_house_value  \\\n",
       "7235       1296.0       392.0        0.23929              0.3136   \n",
       "14376       629.0       239.0        0.65970              0.9928   \n",
       "9575       2603.0       696.0        0.22179              0.1350   \n",
       "12496       825.0       384.0        0.32963              0.4722   \n",
       "18704      1164.0       420.0        0.35347              0.2024   \n",
       "...           ...         ...            ...                 ...   \n",
       "11390       784.0       360.0        0.42566              0.2784   \n",
       "16544      1155.0       533.0        0.22254              0.2616   \n",
       "7778       2744.0       895.0        0.28608              0.3312   \n",
       "20221       982.0       393.0        0.53254              0.7704   \n",
       "17195      1504.0       618.0        0.41375              0.7900   \n",
       "\n",
       "      ocean_proximity  \n",
       "7235        <1H OCEAN  \n",
       "14376      NEAR OCEAN  \n",
       "9575           INLAND  \n",
       "12496          INLAND  \n",
       "18704          INLAND  \n",
       "...               ...  \n",
       "11390       <1H OCEAN  \n",
       "16544          INLAND  \n",
       "7778        <1H OCEAN  \n",
       "20221      NEAR OCEAN  \n",
       "17195      NEAR OCEAN  \n",
       "\n",
       "[250 rows x 10 columns]"
      ]
     },
     "execution_count": 10,
     "metadata": {},
     "output_type": "execute_result"
    }
   ],
   "source": [
    "housing_data"
   ]
  },
  {
   "cell_type": "code",
   "execution_count": 11,
   "metadata": {
    "tags": []
   },
   "outputs": [],
   "source": [
    "x_house = housing_data['median_house_value'].to_numpy()\n",
    "y_house = housing_data['median_income'].to_numpy()"
   ]
  },
  {
   "cell_type": "code",
   "execution_count": 12,
   "metadata": {},
   "outputs": [
    {
     "name": "stdout",
     "output_type": "stream",
     "text": [
      "[0.3136 0.9928 0.135  0.4722 0.2024 0.3386 0.2666 0.4574 0.2362 0.4784\n",
      " 0.8376 0.275  0.3814 0.525  0.3834 0.3136 0.0924 0.5492 0.4778 0.547\n",
      " 0.1992 0.7666 0.9    0.1308 0.7706 0.1638 0.1426 0.2308 0.689  0.7592\n",
      " 0.325  0.209  0.4284 0.625  0.492  0.595  0.164  0.2876 0.2482 0.2064\n",
      " 0.416  0.3008 0.2376 0.4958 0.4366 0.1496 0.225  0.2456 0.173  0.4452\n",
      " 0.24   0.675  0.3294 0.3242 0.5344 0.1872 0.4536 0.316  0.2704 0.4814\n",
      " 0.3312 0.5078 0.3586 0.512  0.1536 0.225  0.4468 0.114  0.3816 0.6914\n",
      " 0.4232 0.4334 0.3592 0.1754 0.3348 0.6666 0.4528 0.5566 0.1724 0.325\n",
      " 0.3876 0.328  0.4862 0.6666 0.1654 0.3478 0.6388 0.1016 0.4446 0.537\n",
      " 0.488  0.3202 0.5032 0.332  0.473  0.3698 0.628  0.575  0.2222 0.5198\n",
      " 0.2838 0.3568 0.2882 0.1336 0.224  0.5954 0.3034 0.4038 0.26   0.5758\n",
      " 0.4652 0.5598 0.2322 0.12   0.1094 0.9778 0.193  0.5056 0.5968 0.135\n",
      " 0.2002 0.8834 0.5858 0.28   0.7    0.7214 0.5126 0.2584 0.2722 0.86\n",
      " 0.3222 0.116  0.585  0.4284 0.2602 0.4318 0.3522 0.4094 0.4296 0.5684\n",
      " 0.2038 0.1678 0.3678 0.532  0.2892 0.4356 0.2744 0.4534 0.342  0.3256\n",
      " 0.4838 0.817  0.4066 0.4166 0.3876 0.6066 0.2938 0.3838 0.3812 0.315\n",
      " 0.45   0.7088 0.5566 0.186  0.4916 0.8746 0.325  0.1298 0.4198 0.3228\n",
      " 0.143  0.1806 0.6334 0.3692 0.5722 0.25   0.175  0.7036 0.6388 0.12\n",
      " 0.325  0.275  0.2334 0.291  0.5328 0.2158 0.9416 0.5484 0.6476 0.2058\n",
      " 0.4628 0.6184 0.21   0.143  0.104  0.1212 0.135  0.4326 0.1626 0.331\n",
      " 0.139  0.3    0.1826 0.4174 0.435  0.2076 0.763  0.3    0.25   0.5532\n",
      " 0.426  0.1442 0.12   0.1812 0.453  0.6616 0.6026 0.4414 0.175  0.5196\n",
      " 0.225  0.5226 0.6104 0.3484 0.175  0.3604 0.2668 0.259  0.5474 0.4278\n",
      " 0.3488 0.7212 0.2204 0.2898 0.3676 0.3392 0.4134 0.1992 0.227  0.2744\n",
      " 0.6    0.2476 0.376  0.2348 0.2558 0.2784 0.2616 0.3312 0.7704 0.79  ]\n"
     ]
    }
   ],
   "source": [
    "print(x_house)"
   ]
  },
  {
   "cell_type": "code",
   "execution_count": 13,
   "metadata": {},
   "outputs": [],
   "source": [
    "def plotfit(x, beta):\n",
    "    funct = beta[-1][0]+x*beta[-1][1]\n",
    "    return(funct)\n",
    "\n",
    "def plotfit2(x, beta):\n",
    "    functs=[]\n",
    "    points = np.linspace(0,len(beta),10)\n",
    "    points = [int(x) for x in points]\n",
    "    for i in range(len(points)-1):\n",
    "        functs.append(beta[points[i]][0]+x*beta[points[i]][1])\n",
    "    return(functs)"
   ]
  },
  {
   "cell_type": "markdown",
   "metadata": {},
   "source": [
    "### Fake data"
   ]
  },
  {
   "cell_type": "code",
   "execution_count": 14,
   "metadata": {},
   "outputs": [
    {
     "data": {
      "application/vnd.jupyter.widget-view+json": {
       "model_id": "d5dfb08900684dc8811b3e2cbb1d6557",
       "version_major": 2,
       "version_minor": 0
      },
      "text/plain": [
       "Canvas(toolbar=Toolbar(toolitems=[('Home', 'Reset original view', 'home', 'home'), ('Back', 'Back to previous …"
      ]
     },
     "metadata": {},
     "output_type": "display_data"
    },
    {
     "name": "stderr",
     "output_type": "stream",
     "text": [
      "/Users/ondrea/MLandstats/OStats/ostats/ML.py:40: RuntimeWarning: divide by zero encountered in double_scalars\n",
      "  stop_condition = (np.abs(theta[1] - store_theta[-1][1])/store_theta[-1][1] < epsilon) and (np.abs(theta[0] -\\\n"
     ]
    }
   ],
   "source": [
    "ifig=1;plt.close(ifig);plt.figure(ifig,figsize=(7,6), dpi=120)\n",
    "theta_fake, J_fake = ML.GradDes_Regression(x=fakex, y=fakey, gamma=0.01)\n",
    "plt.scatter(fakex,fakey, c='darkred',  s=15)\n",
    "nlines = 10\n",
    "for i in range(nlines):\n",
    "    plt.plot(fakex,plotfit2(fakex,beta=theta_fake)[i-1], color=dp.ColorGradient(stop=(11, 0, 59), n=nlines)[i],lw=1)\n"
   ]
  },
  {
   "cell_type": "markdown",
   "metadata": {},
   "source": [
    "### Housing data"
   ]
  },
  {
   "cell_type": "code",
   "execution_count": 15,
   "metadata": {},
   "outputs": [],
   "source": [
    "theta_house_normal=ML.Normal_Linear_Regression(x=x_house, y=y_house)\n",
    "ynormal = np.array(theta_house_normal[1])*x_house + np.array(theta_house_normal[0])\n",
    "\n",
    "theta_house, J_house = ML.GradDes_Regression(x=x_house, y=y_house, gamma=1e-2, epsilon = 1e-6, theta_init = np.array([0.23,0.37] ))\n",
    "theta_house_alt, J_house_alt = ML.GradDes_Regression(x=x_house, y=y_house, gamma=1e-3,epsilon = 1e-5, theta_init = np.array([0.5,0.5]))\n",
    "y = np.array(theta_house[-1][1])*x_house + np.array(theta_house[-1][0])\n",
    "yalt = np.array(theta_house_alt[-1][1])*x_house + np.array(theta_house_alt[-1][0])"
   ]
  },
  {
   "cell_type": "code",
   "execution_count": 16,
   "metadata": {},
   "outputs": [
    {
     "data": {
      "application/vnd.jupyter.widget-view+json": {
       "model_id": "5ede3e9718634ade966632ce4d6fc6ed",
       "version_major": 2,
       "version_minor": 0
      },
      "text/plain": [
       "Canvas(toolbar=Toolbar(toolitems=[('Home', 'Reset original view', 'home', 'home'), ('Back', 'Back to previous …"
      ]
     },
     "metadata": {},
     "output_type": "display_data"
    },
    {
     "data": {
      "text/plain": [
       "<matplotlib.legend.Legend at 0x7ff3a6849640>"
      ]
     },
     "execution_count": 16,
     "metadata": {},
     "output_type": "execute_result"
    }
   ],
   "source": [
    "ifig=2;plt.close(ifig);plt.figure(ifig,figsize=(7,6), dpi=120)\n",
    "\n",
    "plt.scatter(x_house, y=y_house, c='g',  s=15, label='data')\n",
    "plt.plot(x_house,ynormal, c='b', label='Analytic', lw=3)\n",
    "nlines = 10\n",
    "#for i in range(nlines):\n",
    "#    plt.plot(x_house,plotfit2(x_house,beta=theta_house)[i-1],\\\n",
    "#             color=dp.ColorGradient(stop=(0, 200, 90), n=nlines)[i],lw=1)\n",
    "#    plt.plot(x_house,plotfit2(x_house,beta=theta_house_alt)[i-1],\\\n",
    "#             color=dp.ColorGradient(stop=(140, 20, 90), n=nlines)[i],lw=1)\n",
    "\n",
    "plt.plot(x_house,y, c='k', label='gamma=1e-2, epsilon = 1e-6')\n",
    "plt.plot(x_house,yalt, c='r', label = 'gamma=1e-3,epsilon = 1e-5')\n",
    "plt.legend()"
   ]
  },
  {
   "cell_type": "code",
   "execution_count": 17,
   "metadata": {},
   "outputs": [],
   "source": [
    "### Climate data\n",
    "theta_climate, J_climate = ML.GradDes_Regression(x=year, y=tempa, gamma=0.01, epsilon=0.0001, theta_init = np.array([0.5,0.5]))\n",
    "theta_climate_normal=ML.Normal_Linear_Regression(x=year, y=tempa)\n",
    "ynormal_climate = np.array(theta_climate_normal[1])*year + np.array(theta_climate_normal[0])"
   ]
  },
  {
   "cell_type": "code",
   "execution_count": 18,
   "metadata": {},
   "outputs": [
    {
     "data": {
      "application/vnd.jupyter.widget-view+json": {
       "model_id": "6504e8852e994c72a6458e043d892a0a",
       "version_major": 2,
       "version_minor": 0
      },
      "text/plain": [
       "Canvas(toolbar=Toolbar(toolitems=[('Home', 'Reset original view', 'home', 'home'), ('Back', 'Back to previous …"
      ]
     },
     "metadata": {},
     "output_type": "display_data"
    }
   ],
   "source": [
    "ifig=3;plt.close(ifig);plt.figure(ifig,figsize=(7,6), dpi=120)\n",
    "\n",
    "plt.scatter(year, y=tempa, c='orange',  s=15)\n",
    "plt.plot(year,ynormal_climate, c='b')\n",
    "nlines = 10\n",
    "for i in range(nlines):\n",
    "    plt.plot(year,plotfit2(year,beta=theta_climate)[i-1],\\\n",
    "             color=dp.ColorGradient(stop=(31, 80, 40), n=nlines)[i],lw=1)"
   ]
  },
  {
   "cell_type": "markdown",
   "metadata": {},
   "source": [
    "## Now take a look at convergence by plotting $J(\\theta)$ vs $(\\theta)$ or $J(\\theta)$ vs n iter"
   ]
  },
  {
   "cell_type": "code",
   "execution_count": 19,
   "metadata": {},
   "outputs": [],
   "source": [
    "theta_house, J_house = ML.GradDes_Regression(x=x_house, y=y_house, gamma=0.001, epsilon = 0.000001, theta_init = np.array([0.23,0.37] ))\n",
    "theta_house_alt, J_house_alt = ML.GradDes_Regression(x=x_house, y=y_house, gamma=0.001,epsilon = 0.00001, theta_init = np.array([0.5,0.5]))"
   ]
  },
  {
   "cell_type": "code",
   "execution_count": 20,
   "metadata": {},
   "outputs": [
    {
     "data": {
      "application/vnd.jupyter.widget-view+json": {
       "model_id": "e92472f29b764eb69bb8f2d378bdb1de",
       "version_major": 2,
       "version_minor": 0
      },
      "text/plain": [
       "Canvas(toolbar=Toolbar(toolitems=[('Home', 'Reset original view', 'home', 'home'), ('Back', 'Back to previous …"
      ]
     },
     "metadata": {},
     "output_type": "display_data"
    },
    {
     "data": {
      "text/plain": [
       "Text(0, 0.5, 'theta')"
      ]
     },
     "execution_count": 20,
     "metadata": {},
     "output_type": "execute_result"
    }
   ],
   "source": [
    "#For the two instances of housing data\n",
    "ifig=4;plt.close(ifig);plt.figure(ifig,figsize=(7,6), dpi=120)\n",
    "theta0 = [x[0] for x in theta_house]\n",
    "theta0_alt = [x[0] for x in theta_house_alt]\n",
    "theta1 = [x[1] for x in theta_house]\n",
    "theta1_alt = [x[1] for x in theta_house_alt]\n",
    "\n",
    "niter = range(len(theta0))\n",
    "niter2 = range(len(theta0_alt))\n",
    "\n",
    "plt.plot(J_house, theta0, color = 'k')\n",
    "plt.plot(J_house_alt, theta0_alt, marker='.', ls='',color='k', alpha=0.2)\n",
    "plt.plot(J_house, theta1, color = 'r')\n",
    "plt.plot(J_house_alt, theta1_alt, marker='.',ls='', color = 'r', alpha=0.1)\n",
    "plt.xlabel('J')\n",
    "plt.ylabel('theta')"
   ]
  },
  {
   "cell_type": "code",
   "execution_count": 21,
   "metadata": {},
   "outputs": [
    {
     "data": {
      "application/vnd.jupyter.widget-view+json": {
       "model_id": "9b65cc97df9146efb9ca146be6daf79a",
       "version_major": 2,
       "version_minor": 0
      },
      "text/plain": [
       "Canvas(toolbar=Toolbar(toolitems=[('Home', 'Reset original view', 'home', 'home'), ('Back', 'Back to previous …"
      ]
     },
     "metadata": {},
     "output_type": "display_data"
    },
    {
     "data": {
      "text/plain": [
       "Text(0, 0.5, 'J')"
      ]
     },
     "execution_count": 21,
     "metadata": {},
     "output_type": "execute_result"
    }
   ],
   "source": [
    "ifig=5;plt.close(ifig);plt.figure(ifig,figsize=(7,6), dpi=120)\n",
    "plt.plot(niter, J_house, color = 'b', lw=4)\n",
    "plt.plot(niter2, J_house_alt, marker='_', color='k')\n",
    "plt.xlabel('Iterations')\n",
    "plt.ylabel('J')"
   ]
  },
  {
   "cell_type": "code",
   "execution_count": 22,
   "metadata": {},
   "outputs": [
    {
     "name": "stdout",
     "output_type": "stream",
     "text": [
      "3.3421119371309818 3.371914935407978\n"
     ]
    }
   ],
   "source": [
    "print(J_house[-1],J_house_alt[-1])\n"
   ]
  },
  {
   "cell_type": "code",
   "execution_count": 23,
   "metadata": {},
   "outputs": [
    {
     "data": {
      "application/vnd.jupyter.widget-view+json": {
       "model_id": "f858f667ac5c4486b449ca7d6a7252cf",
       "version_major": 2,
       "version_minor": 0
      },
      "text/plain": [
       "Canvas(toolbar=Toolbar(toolitems=[('Home', 'Reset original view', 'home', 'home'), ('Back', 'Back to previous …"
      ]
     },
     "metadata": {},
     "output_type": "display_data"
    },
    {
     "data": {
      "text/plain": [
       "[<matplotlib.lines.Line2D at 0x7ff3a71ea8b0>]"
      ]
     },
     "execution_count": 23,
     "metadata": {},
     "output_type": "execute_result"
    }
   ],
   "source": [
    "#For the two instances of housing data\n",
    "ifig=6;plt.close(ifig);plt.figure(ifig,figsize=(7,6), dpi=120)\n",
    "plt.plot(theta0, theta1, c='b', lw=3)\n",
    "plt.plot(theta0_alt, theta1_alt, c='y')"
   ]
  },
  {
   "cell_type": "code",
   "execution_count": 24,
   "metadata": {},
   "outputs": [
    {
     "data": {
      "application/vnd.jupyter.widget-view+json": {
       "model_id": "fd93687085ad4b0194439f88eaebe75c",
       "version_major": 2,
       "version_minor": 0
      },
      "text/plain": [
       "Canvas(toolbar=Toolbar(toolitems=[('Home', 'Reset original view', 'home', 'home'), ('Back', 'Back to previous …"
      ]
     },
     "metadata": {},
     "output_type": "display_data"
    },
    {
     "data": {
      "text/plain": [
       "<matplotlib.legend.Legend at 0x7ff3a7211f70>"
      ]
     },
     "execution_count": 24,
     "metadata": {},
     "output_type": "execute_result"
    }
   ],
   "source": [
    "ifig=7;plt.close(ifig);plt.figure(ifig,figsize=(7,6), dpi=120)\n",
    "plt.plot(niter,theta0, label='theta0')\n",
    "plt.plot(niter,theta1, label='theta1 alt')\n",
    "\n",
    "plt.plot(niter2,theta0_alt, label='theta0 alt')\n",
    "plt.plot(niter2,theta1_alt, label='theta1 alt')\n",
    "plt.legend()"
   ]
  },
  {
   "cell_type": "code",
   "execution_count": 25,
   "metadata": {},
   "outputs": [],
   "source": [
    "def cost_func(theta0, theta1,x,y):\n",
    "    h = theta0 + theta1*x\n",
    "    theta0 = np.atleast_3d(np.asarray(theta0))\n",
    "    theta1 = np.atleast_3d(np.asarray(theta1))\n",
    "    return np.average((y-h)**2, axis=2)/2"
   ]
  },
  {
   "cell_type": "code",
   "execution_count": 26,
   "metadata": {},
   "outputs": [],
   "source": [
    "th0,th1 = np.linspace(0, 1.0, len(x_house)),np.linspace(0, 1.0, len(x_house))\n",
    "\n",
    "J_grid = cost_func(th0[np.newaxis,:,np.newaxis],\n",
    "                   th1[:,np.newaxis,np.newaxis],x_house, y_house)\n",
    "#th0,th1 = np.meshgrid(th0,th1)"
   ]
  },
  {
   "cell_type": "code",
   "execution_count": 30,
   "metadata": {},
   "outputs": [
    {
     "data": {
      "application/vnd.jupyter.widget-view+json": {
       "model_id": "51d3227537bc4bb792f3c7e5be5fccee",
       "version_major": 2,
       "version_minor": 0
      },
      "text/plain": [
       "Canvas(toolbar=Toolbar(toolitems=[('Home', 'Reset original view', 'home', 'home'), ('Back', 'Back to previous …"
      ]
     },
     "metadata": {},
     "output_type": "display_data"
    },
    {
     "data": {
      "text/plain": [
       "<matplotlib.collections.PathCollection at 0x7ff3920256d0>"
      ]
     },
     "execution_count": 30,
     "metadata": {},
     "output_type": "execute_result"
    }
   ],
   "source": [
    "ifig=8;plt.close(ifig);plt.figure(ifig,figsize=(7,6), dpi=120)\n",
    "color_bar_idxs = np.linspace(0,len(theta0),len(theta0))\n",
    "color_bar_idxs_alt = np.linspace(0,len(theta0_alt),len(theta0_alt))\n",
    "\n",
    "plt.contourf(th0,th1, J_grid)\n",
    "plt.scatter(theta0, theta1, c= color_bar_idxs, cmap ='magma', s =20)\n",
    "plt.scatter(theta0_alt, theta1_alt, c= color_bar_idxs_alt, cmap ='cividis', s =20)\n",
    "plt.scatter(theta_house_normal[0], theta_house_normal[1], c='r', s=30)"
   ]
  },
  {
   "cell_type": "code",
   "execution_count": null,
   "metadata": {},
   "outputs": [],
   "source": []
  }
 ],
 "metadata": {
  "kernelspec": {
   "display_name": "Python 3",
   "language": "python",
   "name": "python3"
  },
  "language_info": {
   "codemirror_mode": {
    "name": "ipython",
    "version": 3
   },
   "file_extension": ".py",
   "mimetype": "text/x-python",
   "name": "python",
   "nbconvert_exporter": "python",
   "pygments_lexer": "ipython3",
   "version": "3.8.8"
  }
 },
 "nbformat": 4,
 "nbformat_minor": 2
}
