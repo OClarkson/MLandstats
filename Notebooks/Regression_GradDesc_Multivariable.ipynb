{
 "cells": [
  {
   "cell_type": "code",
   "execution_count": 1,
   "id": "dd0186a4",
   "metadata": {},
   "outputs": [],
   "source": [
    "%matplotlib widget\n",
    "import numpy as np\n",
    "import matplotlib.pyplot as plt\n",
    "from mpl_toolkits import mplot3d\n",
    "\n",
    "import sys\n",
    "sys.path.append('/Users/ondrea/MLandstats/OStats/')\n",
    "from ostats import ML"
   ]
  },
  {
   "cell_type": "code",
   "execution_count": 2,
   "id": "8ac6542d",
   "metadata": {},
   "outputs": [],
   "source": [
    "data_range = np.random.RandomState(1) #make up some fake data for testing\n",
    "fakex = 10 * data_range.rand(50)\n",
    "fakex2 = 10 * data_range.rand(50)\n",
    "fakey = 3 * fakex - 5 + data_range.randn(50)\n",
    "x=np.array([fakex,fakex2])\n",
    "#print(x)"
   ]
  },
  {
   "cell_type": "code",
   "execution_count": 4,
   "id": "29d135d8",
   "metadata": {},
   "outputs": [],
   "source": [
    "#theta_fake2"
   ]
  },
  {
   "cell_type": "code",
   "execution_count": 5,
   "id": "36118ef4",
   "metadata": {},
   "outputs": [
    {
     "name": "stderr",
     "output_type": "stream",
     "text": [
      "/Users/ondrea/MLandstats/OStats/ostats/ML.py:40: RuntimeWarning: divide by zero encountered in double_scalars\n",
      "  stop_condition = (np.abs(theta[1] - store_theta[-1][1])/store_theta[-1][1] < epsilon) and (np.abs(theta[0] -\\\n"
     ]
    }
   ],
   "source": [
    "theta_fake1, J_fake1 = ML.GradDes_Regression(x=x[0], y=fakey, gamma=0.01, n=1)\n",
    "theta_fake2, J_fake2 = ML.GradDes_Regression(x=x, y=fakey, gamma=0.01, n=2)\n",
    "#print(x.T)"
   ]
  },
  {
   "cell_type": "code",
   "execution_count": 7,
   "id": "386d9b29",
   "metadata": {},
   "outputs": [],
   "source": [
    "#theta_fake, J_fake = test(x=x, y=fakey, n=2, gamma=0.01)\n",
    "y=ML.thetato_y(x=x[0], y = fakey, theta=theta_fake1[-1])\n",
    "y2=ML.thetato_y(x=x, y = fakey, theta=theta_fake2[-1])\n"
   ]
  },
  {
   "cell_type": "code",
   "execution_count": 8,
   "id": "efd69f27",
   "metadata": {},
   "outputs": [
    {
     "data": {
      "application/vnd.jupyter.widget-view+json": {
       "model_id": "1516f052ed3549f7a40a4dc9217a1a55",
       "version_major": 2,
       "version_minor": 0
      },
      "text/plain": [
       "Canvas(toolbar=Toolbar(toolitems=[('Home', 'Reset original view', 'home', 'home'), ('Back', 'Back to previous …"
      ]
     },
     "metadata": {},
     "output_type": "display_data"
    },
    {
     "data": {
      "text/plain": [
       "<matplotlib.legend.Legend at 0x7ff0aec99dc0>"
      ]
     },
     "execution_count": 8,
     "metadata": {},
     "output_type": "execute_result"
    }
   ],
   "source": [
    "ifig=3;plt.close(ifig);plt.figure(ifig,figsize=(7,6), dpi=120)\n",
    "ax = plt.axes(projection='3d')\n",
    "\n",
    "ax.scatter3D(x[0], x[1], fakey, label='data');\n",
    "ax.scatter3D(x[0], x[1], y2, label='prediction');\n",
    "plt.legend()"
   ]
  },
  {
   "cell_type": "code",
   "execution_count": null,
   "id": "0e303436",
   "metadata": {},
   "outputs": [],
   "source": []
  }
 ],
 "metadata": {
  "kernelspec": {
   "display_name": "Python 3",
   "language": "python",
   "name": "python3"
  },
  "language_info": {
   "codemirror_mode": {
    "name": "ipython",
    "version": 3
   },
   "file_extension": ".py",
   "mimetype": "text/x-python",
   "name": "python",
   "nbconvert_exporter": "python",
   "pygments_lexer": "ipython3",
   "version": "3.8.8"
  }
 },
 "nbformat": 4,
 "nbformat_minor": 5
}
